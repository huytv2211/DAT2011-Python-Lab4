{
 "cells": [
  {
   "cell_type": "markdown",
   "id": "c4c1740d",
   "metadata": {},
   "source": [
    "# Sinh viên code lab4 ở đây"
   ]
  }
 ],
 "metadata": {
  "language_info": {
   "name": "python"
  }
 },
 "nbformat": 4,
 "nbformat_minor": 5
}
